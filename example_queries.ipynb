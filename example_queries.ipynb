{
 "cells": [
  {
   "cell_type": "code",
   "execution_count": 1,
   "metadata": {},
   "outputs": [],
   "source": [
    "import re\n",
    "import numpy as np\n",
    "import pandas as pd\n",
    "from datetime import datetime\n",
    "from elasticsearch import Elasticsearch\n",
    "import json\n",
    "import os\n",
    "\n",
    "es = Elasticsearch()\n"
   ]
  },
  {
   "cell_type": "markdown",
   "metadata": {},
   "source": [
    "# Demo ElasticSearch quering\n",
    "Some simple elastic search quering for demo purposes."
   ]
  },
  {
   "cell_type": "code",
   "execution_count": 33,
   "metadata": {},
   "outputs": [
    {
     "name": "stdout",
     "output_type": "stream",
     "text": [
      "\n",
      "Query combination results:\n",
      "4.0077915 @albertheijn Liever zwarte Piet  False\n",
      "4.000101 RT @Co0ontje: Piet! Piet! https://t.co/fJAWVnhzPY Nederlands Neanderthalië False\n",
      "3.9649076 @LavieJanRoos Jan, Piet, Joris en Corneel  False\n",
      "3.9649076 @Isdatnouwelzo @nrc Ze willen ook geen Piet met een migratieachtergrond.  False\n",
      "3.8890626 Piet. Ouwe viezerik. #FirstDates  False\n",
      "3.8537278 ZWARTE PIET WIE KENT HEM NIET ! https://t.co/970VQdsrvL Amsterdam, Nederland False\n",
      "3.8293254 RT @trouw: Gesloopte Piet, wie ziet hem niet? Een nieuw middel in de strijd van activisten tegen Zwarte Piet is opgedoken: het fijnknijpen… Weert, Nederland False\n",
      "3.8166769 Zwarte Piet is morgen weer vertrokken. Het racisme blijft. Zwarte Piet en institutioneel racisme onlosmakelijk met… https://t.co/ciJna1AFdP Rotterdam False\n",
      "3.7520223 @frgroenendijk Als Zwarte Piet lacht dan lacht ie ook echt. The Netherlands False\n",
      "3.723523 RT @Marssieboy: Zwarte Piet krenkt tegenwoordig. Vroeger gaf hij snoep en pepernoten, nu geeft hij nog steeds snoep en pepernoten. Piet is… Lutjegast False\n",
      "3.6930354 @JanBolluijt @volkskrant Doping en zwarte piet is geen vrijheid van meningsuiting, maar van doen  False\n",
      "3.676315 God heeft ook Zwarte Piet naar zijn evenbeeld geschapen.... \n",
      "Is God dus zwart? Nederland False\n",
      "3.6740522 RT @KarinVanRoyen: Een vraagje aan de zwarte piet haters ,wat deden jullie als kind bij de Sint ,dachten jullie dan ook o zwarte piet is ra…  False\n",
      "3.65863 Zwarte Piet, de samenzwering https://t.co/yG96ETNhJ2 via @wordpressdotcom Nederland False\n",
      "3.5840642 @superjan @Krantenjochie Nee ik vind het leuk. Maar dan moet zwarte piet blijven. on Jesus' side    False\n",
      "3.5840642 @doetietsmettaal @PapendrechtGem Waarom is er iets met Zwarte Piet.\n",
      "Stel je eens niet zo aan en verdiep je in de geschiedenis.  False\n",
      "3.5812616 De Sint zei tegen zwarte piet, ken jij het Marrakech- verdrag nog niet, nee zei piet wat mag dat zijn, welnu zei Si… https://t.co/oAxgRWMDqQ Urk False\n",
      "3.499127 FOTO(SHOPPER) \"Witte Piet\" . . . https://t.co/0p7Uzt4qP2 via @wordpressdotcom Nederland False\n",
      "3.4930143 @floepke1 @pauwelu @WrdCoenegrachts Nee. Dat is die van Sinterklaas.. die Zwarte Piet niet mag meebrengen. 🤔 België False\n",
      "3.4327047 @frankahummels @nielsjacobs En dan Zilveren Kruis de Zwarte Piet toespelen!? Triest figuur ben jij. 🌏  False\n"
     ]
    }
   ],
   "source": [
    "\"\"\" Query combination \"\"\"\n",
    "from elasticsearch_dsl import Search\n",
    "from elasticsearch_dsl.query import MultiMatch, Match\n",
    "from elasticsearch_dsl import Q\n",
    "\n",
    "def exportJson(j, outfile):\n",
    "    with open(outfile, \"w\") as data_file:\n",
    "        json.dump(j, data_file, indent=2)\n",
    "\n",
    "m1 = Q(\"match\", text='piet') & Q(\"match\", activist=\"true\") & Q(\"match\", zp=\"true\")\n",
    "\n",
    "s = Search().using(es).query(m1)[0:20]   # Filter out stuff e.g. negative sentiment .exclude(\"match\", sentiment=\"negative\")\n",
    "response = s.execute()\n",
    "exportJson(response.to_dict(),\"res.json\")\n",
    "print()\n",
    "print('Query combination results:')\n",
    "for hit in response: print(hit.meta.score, hit.text, hit.user.location, hit.user.isNews)"
   ]
  },
  {
   "cell_type": "code",
   "execution_count": 57,
   "metadata": {},
   "outputs": [
    {
     "name": "stdout",
     "output_type": "stream",
     "text": [
      "\n",
      "Got 279 Hits:\n",
      "Got 10 Buckets:\n",
      "{'key': 'piet', 'doc_count': 279, 'score': 3.301075268817204, 'bg_count': 279}\n",
      "{'key': 'zwarte', 'doc_count': 248, 'score': 2.5464304884594733, 'bg_count': 276}\n",
      "{'key': 'kick', 'doc_count': 79, 'score': 0.9046422741133754, 'bg_count': 81}\n",
      "{'key': 'out', 'doc_count': 79, 'score': 0.8487459731262144, 'bg_count': 85}\n",
      "{'key': 'anti', 'doc_count': 37, 'score': 0.2980888042579733, 'bg_count': 49}\n",
      "{'key': 'rt', 'doc_count': 171, 'score': 0.2376259006930674, 'bg_count': 530}\n",
      "{'key': 'bus', 'doc_count': 16, 'score': 0.1747997615047869, 'bg_count': 17}\n",
      "{'key': 'politie', 'doc_count': 28, 'score': 0.15143690343135366, 'bg_count': 48}\n",
      "{'key': 'demonstranten', 'doc_count': 15, 'score': 0.1502723878313032, 'bg_count': 17}\n",
      "{'key': 'demonstreren', 'doc_count': 13, 'score': 0.13949864834360154, 'bg_count': 14}\n"
     ]
    }
   ],
   "source": [
    "\"\"\" This is the typical ES quering. It would be easier with es-dsl.\"\"\"\n",
    "print()\n",
    "body = {\n",
    "    \"query\" : {\n",
    "        \"match\" : {\"text\" : \"piet\"}\n",
    "    },\n",
    "    \"aggregations\" : {\n",
    "        \"my_sample\" : {\n",
    "            \"sampler\" : {\n",
    "                \"shard_size\" : 100000\n",
    "            },\n",
    "            \"aggregations\": {\n",
    "                \"keywords\" : {\n",
    "                    \"significant_text\" : { \"field\" : \"text\" }\n",
    "                }\n",
    "            }\n",
    "        }\n",
    "    }\n",
    "}\n",
    "\n",
    "res = es.search(index=\"zpiet-with_status_count-tweets-index\", body = body, size=80)\n",
    "with open(\"res.json\", \"w\") as data_file:\n",
    "    json.dump(res, data_file, indent=2)\n",
    "\n",
    "print(\"Got %d Hits:\" % res['hits']['total']['value'])\n",
    "print(\"Got %d Buckets:\" % len(res['aggregations']['my_sample'][\"keywords\"][\"buckets\"]))\n",
    "for i,hit in enumerate(res['aggregations']['my_sample'][\"keywords\"][\"buckets\"]):\n",
    "    #print(\"%(timestamp)s %(author)s: %(text)s\" % hit[\"_source\"])\n",
    "    print(hit)"
   ]
  },
  {
   "cell_type": "code",
   "execution_count": 45,
   "metadata": {},
   "outputs": [
    {
     "name": "stdout",
     "output_type": "stream",
     "text": [
      "{'query': {'bool': {'must': [{'multi_match': {'fields': ['text'], 'query': 'zwarte piet', 'type': 'phrase'}}, {'match': {'activist': 'false'}}, {'match': {'zp': 'true'}}]}}, 'aggs': {'my_sample': {'significant_text': {'field': 'text'}}}, 'from': 0, 'size': 3000}\n",
      "Got 116 Hits:\n",
      "Got 10 Buckets:\n",
      "{'key': 'zwarte', 'doc_count': 116, 'score': 28.325757575757...}\n",
      "{'key': 'piet', 'doc_count': 116, 'score': 27.32439024390244...}\n",
      "{'key': 'demonstreren', 'doc_count': 8, 'score': 5.454458977...}\n",
      "{'key': 'kick', 'doc_count': 18, 'score': 5.437294887039239,...}\n",
      "{'key': 'out', 'doc_count': 18, 'score': 5.023038049940548, ...}\n",
      "{'key': 't.co', 'doc_count': 47, 'score': 4.747380250345469,...}\n",
      "{'key': 'https', 'doc_count': 47, 'score': 4.572489428847294...}\n",
      "{'key': 'tijdens', 'doc_count': 5, 'score': 4.27207193816884...}\n",
      "{'key': 'anti', 'doc_count': 14, 'score': 4.0050390069893576...}\n",
      "{'key': '18', 'doc_count': 5, 'score': 3.5528760404280626, '...}\n"
     ]
    }
   ],
   "source": [
    "\"\"\" Query combination and Aggregations with DSL\"\"\"\n",
    "from elasticsearch_dsl import Search\n",
    "from elasticsearch_dsl.query import MultiMatch, Match\n",
    "from elasticsearch_dsl import Q\n",
    "from elasticsearch_dsl import A\n",
    "\n",
    "def exportJson(j, outfile):\n",
    "    with open(outfile, \"w\") as data_file:\n",
    "        json.dump(j, data_file, indent=2)\n",
    "\n",
    "m1 = Q(\"multi_match\",fields = ['text'] , query='zwarte piet', type=\"phrase\" ) & Q(\"match\", activist=\"false\") & Q(\"match\", zp=\"true\")\n",
    "a = A('significant_text', field='text')\n",
    "\n",
    "s = Search() #.aggs.bucket(\"keywords\", a).using(es).query(m1)[0:20]\n",
    "s = s.using(es).query(m1)[0:3000] \n",
    "s.aggs.bucket(\"my_sample\", a)\n",
    "print(s.to_dict())\n",
    "  # Filter out stuff e.g. negative sentiment .exclude(\"match\", sentiment=\"negative\")\n",
    "res = s.execute()\n",
    "exportJson(res.to_dict(),\"res.json\")\n",
    "\n",
    "print(\"Got %d Hits:\" % res['hits']['total'])\n",
    "print(\"Got %d Buckets:\" % len(res['aggregations']['my_sample'][\"buckets\"]))\n",
    "for i,hit in enumerate(res['aggregations']['my_sample'][\"buckets\"]):\n",
    "    #print(\"%(timestamp)s %(author)s: %(text)s\" % hit[\"_source\"])\n",
    "    print(hit)"
   ]
  }
 ],
 "metadata": {
  "kernelspec": {
   "display_name": "Python 3",
   "language": "python",
   "name": "python3"
  },
  "language_info": {
   "codemirror_mode": {
    "name": "ipython",
    "version": 3
   },
   "file_extension": ".py",
   "mimetype": "text/x-python",
   "name": "python",
   "nbconvert_exporter": "python",
   "pygments_lexer": "ipython3",
   "version": "3.6.5"
  },
  "toc": {
   "base_numbering": 1,
   "nav_menu": {},
   "number_sections": false,
   "sideBar": false,
   "skip_h1_title": false,
   "title_cell": "Table of Contents",
   "title_sidebar": "Contents",
   "toc_cell": false,
   "toc_position": {},
   "toc_section_display": false,
   "toc_window_display": false
  }
 },
 "nbformat": 4,
 "nbformat_minor": 2
}
